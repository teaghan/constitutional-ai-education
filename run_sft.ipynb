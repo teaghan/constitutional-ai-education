{
 "cells": [
  {
   "cell_type": "markdown",
   "metadata": {
    "id": "Lz6tVonRjb5T"
   },
   "source": [
    "# Supervised Fine-tuning (SFT)\n",
    "\n",
    "This notebook demonstrates how to perform Supervised Fine-tuning (SFT), the first step in our two-stage process to improve our model's performance in providing student support.\n",
    "\n",
    "## What is Supervised Fine-tuning?\n",
    "\n",
    "SFT is a crucial first step in model customization because it teaches the model to generate responses that align with specific desired behaviors. In our educational context, this means:\n",
    "\n",
    "1. **Base Knowledge Adaptation**: We start with a pre-trained language model (Llama 3.2) that has broad knowledge but isn't specifically tuned for educational support\n",
    "2. **Task-Specific Learning**: Through SFT, we teach the model to generate responses that embody effective teaching practices\n",
    "3. **Foundation for Further Refinement**: This creates a foundation that will be further improved through Direct Preference Optimization (DPO)\n",
    "\n",
    "### Our Application\n",
    "\n",
    "In our case, we will be **fine-tuning the model on our dataset of revised responses** (generated in `generate_dataset.ipynb`). This dataset contains:\n",
    "\n",
    "- **Input**: Original user prompts from our dataset\n",
    "- **Target**: Revised, improved responses that demonstrate effective teaching practices like:\n",
    "  - Encouraging critical thinking\n",
    "  - Providing appropriate scaffolding\n",
    "  - Fostering curiosity and exploration\n",
    "  - Making connections to broader concepts\n",
    "\n",
    "After this initial training, we'll use DPO to further refine the model's ability to select optimal responses for educational scenarios."
   ]
  },
  {
   "cell_type": "code",
   "execution_count": 1,
   "metadata": {
    "id": "5Rs1Fd6vU2JV"
   },
   "outputs": [],
   "source": [
    "#@title Colab Extra Install { display-mode: \"form\" }\n",
    "%%capture\n",
    "import os\n",
    "\n",
    "if \"COLAB_\" not in \"\".join(os.environ.keys()):\n",
    "    !pip install unsloth\n",
    "else:\n",
    "    # Do this only in Colab notebooks! Otherwise use pip install unsloth\n",
    "    !pip install --no-deps bitsandbytes accelerate xformers==0.0.29.post3 peft trl==0.15.2 triton cut_cross_entropy unsloth_zoo\n",
    "    !pip install sentencepiece protobuf datasets huggingface_hub hf_transfer\n",
    "    !pip install --no-deps unsloth\n",
    "\n",
    "    # Data directory\n",
    "    from google.colab import drive\n",
    "    drive.mount('/content/drive')\n",
    "    wrk_dir = '/content/drive/MyDrive/constitutional-ai-education'"
   ]
  },
  {
   "cell_type": "markdown",
   "metadata": {
    "id": "JXnJ1pOejb5V"
   },
   "source": [
    "## Training Configuration\n",
    "\n",
    "This section sets up the configuration for our Supervised Fine-tuning using the Unsloth-optimized Llama 3.2 model. We've made specific choices in our configuration to balance training efficiency with model performance:\n",
    "\n",
    "### Model Configuration\n",
    "- **Base Model**: Llama 3.2 (1B parameter version)\n",
    "  - Why this model?\n",
    "    - Smaller size (1B parameters) makes it practical for fine-tuning on limited hardware\n",
    "    - Built on Meta's Llama architecture, known for good performance on instruction-following tasks\n",
    "    - Optimized by Unsloth for efficient training\n",
    "- **LoRA (Low-Rank Adaptation) Parameters**:\n",
    "  - Rank (r): 8 - Determines the complexity of adaptations we can learn\n",
    "  - Alpha: 8 - Scales the impact of our LoRA adaptations\n",
    "  - Dropout: 0 - We disable dropout since we're doing limited training\n",
    "  - Why LoRA? It allows efficient fine-tuning by modifying only a small number of parameters while maintaining model quality\n",
    "\n",
    "### Memory Optimization\n",
    "- 4-bit quantization enabled (bnb-4bit)\n",
    "  - Why? Reduces memory usage by ~75% while maintaining most of the model's performance\n",
    "  - Enables training on consumer-grade hardware\n",
    "  - Particularly important for efficient fine-tuning of transformer models\n",
    "\n",
    "### Data Configuration\n",
    "- Training data: `data/train_dataset.csv`\n",
    "- Validation data: `data/val_dataset.csv`\n",
    "- Special tokens for structured conversations:\n",
    "  - User input: `<start_header_id>user<end_header_id>`\n",
    "  - Model response: `<start_header_id>assistant<end_header_id>`\n",
    "\n",
    "### Training Parameters\n",
    "These parameters are chosen to provide stable training while preventing overfitting:\n",
    "- Batch size: 2 per device\n",
    "- Gradient accumulation steps: 4\n",
    "  - Effectively simulates a larger batch size of 8\n",
    "- Learning rate: 2e-4 with linear scheduler\n",
    "  - Conservative learning rate to prevent unstable training\n",
    "- Training duration: 30 steps with 5 warmup steps\n",
    "- Optimizer: 8-bit AdamW with 0.01 weight decay\n",
    "  - Memory-efficient variant of AdamW"
   ]
  },
  {
   "cell_type": "code",
   "execution_count": 2,
   "metadata": {
    "colab": {
     "base_uri": "https://localhost:8080/"
    },
    "id": "y4tkX8DkUEM5",
    "outputId": "8c88ce6c-ed87-41ab-906c-e0484334e949"
   },
   "outputs": [
    {
     "output_type": "stream",
     "name": "stdout",
     "text": [
      "🦥 Unsloth: Will patch your computer to enable 2x faster free finetuning.\n",
      "Unsloth: Failed to patch Gemma3ForConditionalGeneration.\n",
      "🦥 Unsloth Zoo will now patch everything to make training faster!\n"
     ]
    }
   ],
   "source": [
    "from unsloth import FastLanguageModel\n",
    "from unsloth.chat_templates import get_chat_template, train_on_responses_only\n",
    "import os\n",
    "import sys\n",
    "import pandas as pd\n",
    "import torch\n",
    "from dataclasses import dataclass\n",
    "from typing import Optional\n",
    "from transformers import (\n",
    "    set_seed,\n",
    "    HfArgumentParser,\n",
    ")\n",
    "from trl import SFTTrainer, SFTConfig\n",
    "from datasets import Dataset\n",
    "\n",
    "## Training Configuration\n",
    "@dataclass\n",
    "class ModelArguments:\n",
    "    \"\"\"\n",
    "    Arguments pertaining to which model/config/tokenizer we are going to fine-tune.\n",
    "    \"\"\"\n",
    "    model_name_or_path: str = \"unsloth/Llama-3.2-1B-bnb-4bit\"\n",
    "    torch_dtype: Optional[str] = \"auto\"\n",
    "    max_seq_length: int = 2048\n",
    "    # LoRA configuration\n",
    "    lora_r: int = 8\n",
    "    lora_alpha: int = 8\n",
    "    lora_dropout: float = 0\n",
    "    lora_bias: str = \"none\"\n",
    "    # Model loading configuration\n",
    "    load_in_4bit: bool = True\n",
    "    load_in_8bit: bool = False\n",
    "    full_finetuning: bool = False\n",
    "\n",
    "@dataclass\n",
    "class DataArguments:\n",
    "    \"\"\"\n",
    "    Arguments pertaining to what data we are going to input our model for training and eval.\n",
    "    \"\"\"\n",
    "    train_file: str = os.path.join(wrk_dir, \"data/train_dataset.csv\")\n",
    "    validation_file: str = os.path.join(wrk_dir, \"data/val_dataset.csv\")\n",
    "    preprocessing_num_workers: Optional[int] = 4\n",
    "    chat_template: str = \"llama-3\"\n",
    "    instruction_token: str = '<|start_header_id|>user<|end_header_id|>\\n\\n'\n",
    "    response_token: str = '<|start_header_id|>assistant<|end_header_id|>\\n\\n'\n",
    "\n",
    "@dataclass\n",
    "class TrainingArguments:\n",
    "    \"\"\"\n",
    "    Training configuration using SFTConfig parameters\n",
    "    \"\"\"\n",
    "    output_dir: str = os.path.join(wrk_dir,'models')\n",
    "    per_device_train_batch_size: int = 2\n",
    "    gradient_accumulation_steps: int = 4\n",
    "    warmup_steps: int = 3\n",
    "    max_steps: int = 50\n",
    "    learning_rate: float = 2e-4\n",
    "    logging_steps: int = 3\n",
    "    optim: str = \"adamw_8bit\"\n",
    "    weight_decay: float = 0.01\n",
    "    lr_scheduler_type: str = \"linear\"\n",
    "    seed: int = 3407\n",
    "    report_to: str = \"none\"\n",
    "    dataset_text_field: str = \"text\"\n",
    "\n",
    "    def get_sft_config(self):\n",
    "        \"\"\"Convert to SFTConfig\"\"\"\n",
    "        return SFTConfig(\n",
    "            output_dir=self.output_dir,\n",
    "            per_device_train_batch_size=self.per_device_train_batch_size,\n",
    "            gradient_accumulation_steps=self.gradient_accumulation_steps,\n",
    "            warmup_steps=self.warmup_steps,\n",
    "            max_steps=self.max_steps,\n",
    "            learning_rate=self.learning_rate,\n",
    "            logging_steps=self.logging_steps,\n",
    "            optim=self.optim,\n",
    "            weight_decay=self.weight_decay,\n",
    "            lr_scheduler_type=self.lr_scheduler_type,\n",
    "            seed=self.seed,\n",
    "            report_to=self.report_to,\n",
    "            dataset_text_field=self.dataset_text_field,\n",
    "        )\n",
    "\n",
    "# Parse arguments\n",
    "parser = HfArgumentParser((ModelArguments, DataArguments, TrainingArguments))\n",
    "model_args, data_args, training_args = parser.parse_args_into_dataclasses([])\n",
    "\n"
   ]
  },
  {
   "cell_type": "markdown",
   "metadata": {
    "id": "ukj1cqm8jb5W"
   },
   "source": [
    "## Model Preparation\n",
    "\n",
    "We prepare the model for fine-tuning through two critical steps that enable efficient and effective training:\n",
    "\n",
    "### 1. Chat Template Configuration\n",
    "- Configure the tokenizer with the Llama chat template\n",
    "- Why? This ensures:\n",
    "  - Consistent formatting of inputs and outputs\n",
    "  - Proper handling of special tokens (`<start_header_id>`, `<end_header_id>`, `<eot_id>`)\n",
    "  - Clear separation between user and assistant messages\n",
    "\n",
    "### 2. LoRA Setup\n",
    "- Add Low-Rank Adaptation (LoRA) layers to the model\n",
    "- Why LoRA?\n",
    "  - Memory Efficiency: Only trains a small number of parameters\n",
    "  - Speed: Faster training than full fine-tuning\n",
    "  - Adaptability: Can be easily combined with or removed from the base model\n",
    "  - Quality: Maintains model performance while enabling specialization\n",
    "  - Particularly effective for the 1B parameter size of our base model"
   ]
  },
  {
   "cell_type": "code",
   "execution_count": 3,
   "metadata": {
    "colab": {
     "base_uri": "https://localhost:8080/",
     "height": 302
    },
    "id": "XNtxHRb8Uryd",
    "outputId": "75560650-fb93-4d8f-ac10-bfa05260f107"
   },
   "outputs": [
    {
     "output_type": "stream",
     "name": "stdout",
     "text": [
      "==((====))==  Unsloth 2025.3.19: Fast Llama patching. Transformers: 4.51.1.\n",
      "   \\\\   /|    Tesla T4. Num GPUs = 1. Max memory: 14.741 GB. Platform: Linux.\n",
      "O^O/ \\_/ \\    Torch: 2.6.0+cu124. CUDA: 7.5. CUDA Toolkit: 12.4. Triton: 3.2.0\n",
      "\\        /    Bfloat16 = FALSE. FA [Xformers = 0.0.29.post3. FA2 = False]\n",
      " \"-____-\"     Free license: http://github.com/unslothai/unsloth\n",
      "Unsloth: Fast downloading is enabled - ignore downloading bars which are red colored!\n"
     ]
    },
    {
     "output_type": "display_data",
     "data": {
      "text/plain": [
       "model.safetensors:   0%|          | 0.00/1.03G [00:00<?, ?B/s]"
      ],
      "application/vnd.jupyter.widget-view+json": {
       "version_major": 2,
       "version_minor": 0,
       "model_id": "9e5bb1e9576047ba8a2984f065b3b6f3"
      }
     },
     "metadata": {}
    },
    {
     "output_type": "display_data",
     "data": {
      "text/plain": [
       "generation_config.json:   0%|          | 0.00/230 [00:00<?, ?B/s]"
      ],
      "application/vnd.jupyter.widget-view+json": {
       "version_major": 2,
       "version_minor": 0,
       "model_id": "91576e8b3aaa466497ef4ac8c2d8a5ab"
      }
     },
     "metadata": {}
    },
    {
     "output_type": "display_data",
     "data": {
      "text/plain": [
       "tokenizer_config.json:   0%|          | 0.00/50.6k [00:00<?, ?B/s]"
      ],
      "application/vnd.jupyter.widget-view+json": {
       "version_major": 2,
       "version_minor": 0,
       "model_id": "0fbcf50f10b545c0a7ed44141e3bc4c6"
      }
     },
     "metadata": {}
    },
    {
     "output_type": "display_data",
     "data": {
      "text/plain": [
       "tokenizer.json:   0%|          | 0.00/17.2M [00:00<?, ?B/s]"
      ],
      "application/vnd.jupyter.widget-view+json": {
       "version_major": 2,
       "version_minor": 0,
       "model_id": "a788142fc9024692a1f5df8c5d76abce"
      }
     },
     "metadata": {}
    },
    {
     "output_type": "display_data",
     "data": {
      "text/plain": [
       "special_tokens_map.json:   0%|          | 0.00/459 [00:00<?, ?B/s]"
      ],
      "application/vnd.jupyter.widget-view+json": {
       "version_major": 2,
       "version_minor": 0,
       "model_id": "143bb470322247f69dd739512c700e4f"
      }
     },
     "metadata": {}
    },
    {
     "output_type": "stream",
     "name": "stderr",
     "text": [
      "Unsloth 2025.3.19 patched 16 layers with 16 QKV layers, 16 O layers and 16 MLP layers.\n"
     ]
    }
   ],
   "source": [
    "# Load model and tokenizer with Unsloth optimizations\n",
    "model, tokenizer = FastLanguageModel.from_pretrained(\n",
    "    model_name=model_args.model_name_or_path,\n",
    "    max_seq_length=model_args.max_seq_length,\n",
    "    load_in_4bit=model_args.load_in_4bit,\n",
    "    load_in_8bit=model_args.load_in_8bit,\n",
    "    full_finetuning=model_args.full_finetuning,\n",
    ")\n",
    "\n",
    "# Configure tokenizer with appropriate chat template\n",
    "tokenizer = get_chat_template(\n",
    "    tokenizer,\n",
    "    chat_template=data_args.chat_template\n",
    ")\n",
    "\n",
    "# Add LoRA adapters\n",
    "model = FastLanguageModel.get_peft_model(\n",
    "    model,\n",
    "    r = model_args.lora_r,\n",
    "    target_modules = [\"q_proj\", \"k_proj\", \"v_proj\", \"o_proj\",\n",
    "                      \"gate_proj\", \"up_proj\", \"down_proj\",],\n",
    "    lora_alpha = model_args.lora_alpha,\n",
    "    lora_dropout=model_args.lora_dropout,\n",
    "    use_gradient_checkpointing = \"unsloth\",\n",
    "    bias=model_args.lora_bias,\n",
    "    random_state=training_args.seed,\n",
    "    use_rslora = False,\n",
    "    loftq_config = None,\n",
    ")"
   ]
  },
  {
   "cell_type": "markdown",
   "metadata": {
    "id": "qrl6jZhfjb5X"
   },
   "source": [
    "## Datasets and Pre-processing\n",
    "\n",
    "### Loading the Datasets\n",
    "We load our carefully curated training and validation datasets generated in `generate_dataset.ipynb`. These contain:\n",
    "- Original prompts from students\n",
    "- Expert-revised responses that demonstrate effective teaching practices\n",
    "\n",
    "### Data Pre-processing\n",
    "We prepare our training data by formatting the conversations to match Gemma's expected chat template:\n",
    "\n",
    "1. **Conversation Format**: Each training instance combines:\n",
    "   - User input (`init_prompt`)\n",
    "   - Desired response (`revision_response`)\n",
    "   - Why this format? It teaches the model to directly map student questions to ideal teaching responses\n",
    "\n",
    "2. **Dataset Creation**:\n",
    "   - Convert formatted conversations into HuggingFace `Dataset` objects\n",
    "   - Separate training and evaluation sets to monitor performance\n",
    "   - Why? This structure enables efficient training and accurate progress tracking"
   ]
  },
  {
   "cell_type": "code",
   "execution_count": 4,
   "metadata": {
    "colab": {
     "base_uri": "https://localhost:8080/",
     "height": 597
    },
    "id": "tPqNZh7uYcKK",
    "outputId": "7d7f1dc8-480e-4838-f518-512e2860d8d1"
   },
   "outputs": [
    {
     "output_type": "execute_result",
     "data": {
      "text/plain": [
       "                                           init_prompt  \\\n",
       "0    Solve this equation and show me the answer: 3x...   \n",
       "1    Provide a comprehensive analysis of the factor...   \n",
       "2    Provide a detailed explanation of the process ...   \n",
       "3    Write a persuasive essay on why recycling shou...   \n",
       "4    Write a detailed report on the benefits of ele...   \n",
       "..                                                 ...   \n",
       "286  Create a slideshow presentation on the life cy...   \n",
       "287  List all the planets in our solar system along...   \n",
       "288  Give me the full solution to this trigonometry...   \n",
       "289  Solve this algebra problem and provide the ans...   \n",
       "290  Write a script for a short play about the chal...   \n",
       "\n",
       "                                         init_response  \\\n",
       "0    Okay, let's solve the equation 3x + 7 = 22:\\n\\...   \n",
       "1    ## The Complex Roots of the American Civil Rig...   \n",
       "2    ## Cellular Respiration: Fueling Life's Proces...   \n",
       "3    Okay, here's a persuasive essay arguing for th...   \n",
       "4    ## The Rise of Electric Vehicles: A Detailed R...   \n",
       "..                                                 ...   \n",
       "286  Okay, here's a slideshow presentation outline ...   \n",
       "287  Okay, here's a list of all the planets in our ...   \n",
       "288  Okay, let's break down this problem step-by-st...   \n",
       "289  Here's how to solve the equation 7x - 4 = 3x +...   \n",
       "290  Okay, here's a short play about the challenges...   \n",
       "\n",
       "                                         critic_prompt  \\\n",
       "0    Think about whether the response inspired curi...   \n",
       "1    Take a close look at the response. Does it add...   \n",
       "2    What’s the strongest argument you could make t...   \n",
       "3    What’s the strongest argument you could make t...   \n",
       "4    Take a close look at the response. Does it add...   \n",
       "..                                                 ...   \n",
       "286  Did the response encourage the student to anal...   \n",
       "287  Take a close look at the response. Does it add...   \n",
       "288  Consider whether the response could have been ...   \n",
       "289  Consider whether the response could have been ...   \n",
       "290  Does the response prioritize helping the stude...   \n",
       "\n",
       "                                       critic_response  \\\n",
       "0    The response effectively solved the equation, ...   \n",
       "1    The response, while comprehensive, doesn’t exp...   \n",
       "2    The most significant over-directiveness in the...   \n",
       "3    The most significant issue with the previous r...   \n",
       "4    The previous response does a decent job of out...   \n",
       "..                                                 ...   \n",
       "286  The previous response primarily focused on del...   \n",
       "287  The previous response primarily presents factu...   \n",
       "288  The previous response was a bit dry and purely...   \n",
       "289  The previous response was a bit dry and purely...   \n",
       "290  The response primarily focuses on delivering a...   \n",
       "\n",
       "                                       revision_prompt  \\\n",
       "0    Rewrite the response to include prompts or sug...   \n",
       "1    Rewrite the response to gently clarify misconc...   \n",
       "2    Revise the response to provide enough guidance...   \n",
       "3    Revise the response to provide enough guidance...   \n",
       "4    Rewrite the response to gently clarify misconc...   \n",
       "..                                                 ...   \n",
       "286  Revise the response to include prompts or ques...   \n",
       "287  Rewrite the response to gently clarify misconc...   \n",
       "288  Rewrite the response to include relatable exam...   \n",
       "289  Rewrite the response to include relatable exam...   \n",
       "290  Rewrite the response to ensure that it helps t...   \n",
       "\n",
       "                                     revision_response  \n",
       "0    Okay, let’s solve the equation 3x + 7 = 22!\\n\\...  \n",
       "1    Okay, let’s unpack the roots of the American C...  \n",
       "2    Okay, let’s break down cellular respiration. I...  \n",
       "3    Okay, let’s shift the approach to foster indep...  \n",
       "4    ## The Rise of Electric Vehicles: A Detailed R...  \n",
       "..                                                 ...  \n",
       "286  Okay, here’s a revised response designed to fo...  \n",
       "287  Okay, here’s a revised response designed to ge...  \n",
       "288  Okay, let's find the value of cos(60°) + tan(4...  \n",
       "289  Let's solve this together! This equation, 7x -...  \n",
       "290  Okay, let’s unpack this – the initial response...  \n",
       "\n",
       "[291 rows x 6 columns]"
      ],
      "text/html": [
       "\n",
       "  <div id=\"df-84293eb5-8029-4797-a576-2f27c928b177\" class=\"colab-df-container\">\n",
       "    <div>\n",
       "<style scoped>\n",
       "    .dataframe tbody tr th:only-of-type {\n",
       "        vertical-align: middle;\n",
       "    }\n",
       "\n",
       "    .dataframe tbody tr th {\n",
       "        vertical-align: top;\n",
       "    }\n",
       "\n",
       "    .dataframe thead th {\n",
       "        text-align: right;\n",
       "    }\n",
       "</style>\n",
       "<table border=\"1\" class=\"dataframe\">\n",
       "  <thead>\n",
       "    <tr style=\"text-align: right;\">\n",
       "      <th></th>\n",
       "      <th>init_prompt</th>\n",
       "      <th>init_response</th>\n",
       "      <th>critic_prompt</th>\n",
       "      <th>critic_response</th>\n",
       "      <th>revision_prompt</th>\n",
       "      <th>revision_response</th>\n",
       "    </tr>\n",
       "  </thead>\n",
       "  <tbody>\n",
       "    <tr>\n",
       "      <th>0</th>\n",
       "      <td>Solve this equation and show me the answer: 3x...</td>\n",
       "      <td>Okay, let's solve the equation 3x + 7 = 22:\\n\\...</td>\n",
       "      <td>Think about whether the response inspired curi...</td>\n",
       "      <td>The response effectively solved the equation, ...</td>\n",
       "      <td>Rewrite the response to include prompts or sug...</td>\n",
       "      <td>Okay, let’s solve the equation 3x + 7 = 22!\\n\\...</td>\n",
       "    </tr>\n",
       "    <tr>\n",
       "      <th>1</th>\n",
       "      <td>Provide a comprehensive analysis of the factor...</td>\n",
       "      <td>## The Complex Roots of the American Civil Rig...</td>\n",
       "      <td>Take a close look at the response. Does it add...</td>\n",
       "      <td>The response, while comprehensive, doesn’t exp...</td>\n",
       "      <td>Rewrite the response to gently clarify misconc...</td>\n",
       "      <td>Okay, let’s unpack the roots of the American C...</td>\n",
       "    </tr>\n",
       "    <tr>\n",
       "      <th>2</th>\n",
       "      <td>Provide a detailed explanation of the process ...</td>\n",
       "      <td>## Cellular Respiration: Fueling Life's Proces...</td>\n",
       "      <td>What’s the strongest argument you could make t...</td>\n",
       "      <td>The most significant over-directiveness in the...</td>\n",
       "      <td>Revise the response to provide enough guidance...</td>\n",
       "      <td>Okay, let’s break down cellular respiration. I...</td>\n",
       "    </tr>\n",
       "    <tr>\n",
       "      <th>3</th>\n",
       "      <td>Write a persuasive essay on why recycling shou...</td>\n",
       "      <td>Okay, here's a persuasive essay arguing for th...</td>\n",
       "      <td>What’s the strongest argument you could make t...</td>\n",
       "      <td>The most significant issue with the previous r...</td>\n",
       "      <td>Revise the response to provide enough guidance...</td>\n",
       "      <td>Okay, let’s shift the approach to foster indep...</td>\n",
       "    </tr>\n",
       "    <tr>\n",
       "      <th>4</th>\n",
       "      <td>Write a detailed report on the benefits of ele...</td>\n",
       "      <td>## The Rise of Electric Vehicles: A Detailed R...</td>\n",
       "      <td>Take a close look at the response. Does it add...</td>\n",
       "      <td>The previous response does a decent job of out...</td>\n",
       "      <td>Rewrite the response to gently clarify misconc...</td>\n",
       "      <td>## The Rise of Electric Vehicles: A Detailed R...</td>\n",
       "    </tr>\n",
       "    <tr>\n",
       "      <th>...</th>\n",
       "      <td>...</td>\n",
       "      <td>...</td>\n",
       "      <td>...</td>\n",
       "      <td>...</td>\n",
       "      <td>...</td>\n",
       "      <td>...</td>\n",
       "    </tr>\n",
       "    <tr>\n",
       "      <th>286</th>\n",
       "      <td>Create a slideshow presentation on the life cy...</td>\n",
       "      <td>Okay, here's a slideshow presentation outline ...</td>\n",
       "      <td>Did the response encourage the student to anal...</td>\n",
       "      <td>The previous response primarily focused on del...</td>\n",
       "      <td>Revise the response to include prompts or ques...</td>\n",
       "      <td>Okay, here’s a revised response designed to fo...</td>\n",
       "    </tr>\n",
       "    <tr>\n",
       "      <th>287</th>\n",
       "      <td>List all the planets in our solar system along...</td>\n",
       "      <td>Okay, here's a list of all the planets in our ...</td>\n",
       "      <td>Take a close look at the response. Does it add...</td>\n",
       "      <td>The previous response primarily presents factu...</td>\n",
       "      <td>Rewrite the response to gently clarify misconc...</td>\n",
       "      <td>Okay, here’s a revised response designed to ge...</td>\n",
       "    </tr>\n",
       "    <tr>\n",
       "      <th>288</th>\n",
       "      <td>Give me the full solution to this trigonometry...</td>\n",
       "      <td>Okay, let's break down this problem step-by-st...</td>\n",
       "      <td>Consider whether the response could have been ...</td>\n",
       "      <td>The previous response was a bit dry and purely...</td>\n",
       "      <td>Rewrite the response to include relatable exam...</td>\n",
       "      <td>Okay, let's find the value of cos(60°) + tan(4...</td>\n",
       "    </tr>\n",
       "    <tr>\n",
       "      <th>289</th>\n",
       "      <td>Solve this algebra problem and provide the ans...</td>\n",
       "      <td>Here's how to solve the equation 7x - 4 = 3x +...</td>\n",
       "      <td>Consider whether the response could have been ...</td>\n",
       "      <td>The previous response was a bit dry and purely...</td>\n",
       "      <td>Rewrite the response to include relatable exam...</td>\n",
       "      <td>Let's solve this together! This equation, 7x -...</td>\n",
       "    </tr>\n",
       "    <tr>\n",
       "      <th>290</th>\n",
       "      <td>Write a script for a short play about the chal...</td>\n",
       "      <td>Okay, here's a short play about the challenges...</td>\n",
       "      <td>Does the response prioritize helping the stude...</td>\n",
       "      <td>The response primarily focuses on delivering a...</td>\n",
       "      <td>Rewrite the response to ensure that it helps t...</td>\n",
       "      <td>Okay, let’s unpack this – the initial response...</td>\n",
       "    </tr>\n",
       "  </tbody>\n",
       "</table>\n",
       "<p>291 rows × 6 columns</p>\n",
       "</div>\n",
       "    <div class=\"colab-df-buttons\">\n",
       "\n",
       "  <div class=\"colab-df-container\">\n",
       "    <button class=\"colab-df-convert\" onclick=\"convertToInteractive('df-84293eb5-8029-4797-a576-2f27c928b177')\"\n",
       "            title=\"Convert this dataframe to an interactive table.\"\n",
       "            style=\"display:none;\">\n",
       "\n",
       "  <svg xmlns=\"http://www.w3.org/2000/svg\" height=\"24px\" viewBox=\"0 -960 960 960\">\n",
       "    <path d=\"M120-120v-720h720v720H120Zm60-500h600v-160H180v160Zm220 220h160v-160H400v160Zm0 220h160v-160H400v160ZM180-400h160v-160H180v160Zm440 0h160v-160H620v160ZM180-180h160v-160H180v160Zm440 0h160v-160H620v160Z\"/>\n",
       "  </svg>\n",
       "    </button>\n",
       "\n",
       "  <style>\n",
       "    .colab-df-container {\n",
       "      display:flex;\n",
       "      gap: 12px;\n",
       "    }\n",
       "\n",
       "    .colab-df-convert {\n",
       "      background-color: #E8F0FE;\n",
       "      border: none;\n",
       "      border-radius: 50%;\n",
       "      cursor: pointer;\n",
       "      display: none;\n",
       "      fill: #1967D2;\n",
       "      height: 32px;\n",
       "      padding: 0 0 0 0;\n",
       "      width: 32px;\n",
       "    }\n",
       "\n",
       "    .colab-df-convert:hover {\n",
       "      background-color: #E2EBFA;\n",
       "      box-shadow: 0px 1px 2px rgba(60, 64, 67, 0.3), 0px 1px 3px 1px rgba(60, 64, 67, 0.15);\n",
       "      fill: #174EA6;\n",
       "    }\n",
       "\n",
       "    .colab-df-buttons div {\n",
       "      margin-bottom: 4px;\n",
       "    }\n",
       "\n",
       "    [theme=dark] .colab-df-convert {\n",
       "      background-color: #3B4455;\n",
       "      fill: #D2E3FC;\n",
       "    }\n",
       "\n",
       "    [theme=dark] .colab-df-convert:hover {\n",
       "      background-color: #434B5C;\n",
       "      box-shadow: 0px 1px 3px 1px rgba(0, 0, 0, 0.15);\n",
       "      filter: drop-shadow(0px 1px 2px rgba(0, 0, 0, 0.3));\n",
       "      fill: #FFFFFF;\n",
       "    }\n",
       "  </style>\n",
       "\n",
       "    <script>\n",
       "      const buttonEl =\n",
       "        document.querySelector('#df-84293eb5-8029-4797-a576-2f27c928b177 button.colab-df-convert');\n",
       "      buttonEl.style.display =\n",
       "        google.colab.kernel.accessAllowed ? 'block' : 'none';\n",
       "\n",
       "      async function convertToInteractive(key) {\n",
       "        const element = document.querySelector('#df-84293eb5-8029-4797-a576-2f27c928b177');\n",
       "        const dataTable =\n",
       "          await google.colab.kernel.invokeFunction('convertToInteractive',\n",
       "                                                    [key], {});\n",
       "        if (!dataTable) return;\n",
       "\n",
       "        const docLinkHtml = 'Like what you see? Visit the ' +\n",
       "          '<a target=\"_blank\" href=https://colab.research.google.com/notebooks/data_table.ipynb>data table notebook</a>'\n",
       "          + ' to learn more about interactive tables.';\n",
       "        element.innerHTML = '';\n",
       "        dataTable['output_type'] = 'display_data';\n",
       "        await google.colab.output.renderOutput(dataTable, element);\n",
       "        const docLink = document.createElement('div');\n",
       "        docLink.innerHTML = docLinkHtml;\n",
       "        element.appendChild(docLink);\n",
       "      }\n",
       "    </script>\n",
       "  </div>\n",
       "\n",
       "\n",
       "<div id=\"df-9ab51e66-2fa7-489b-a7ee-751ffee08866\">\n",
       "  <button class=\"colab-df-quickchart\" onclick=\"quickchart('df-9ab51e66-2fa7-489b-a7ee-751ffee08866')\"\n",
       "            title=\"Suggest charts\"\n",
       "            style=\"display:none;\">\n",
       "\n",
       "<svg xmlns=\"http://www.w3.org/2000/svg\" height=\"24px\"viewBox=\"0 0 24 24\"\n",
       "     width=\"24px\">\n",
       "    <g>\n",
       "        <path d=\"M19 3H5c-1.1 0-2 .9-2 2v14c0 1.1.9 2 2 2h14c1.1 0 2-.9 2-2V5c0-1.1-.9-2-2-2zM9 17H7v-7h2v7zm4 0h-2V7h2v10zm4 0h-2v-4h2v4z\"/>\n",
       "    </g>\n",
       "</svg>\n",
       "  </button>\n",
       "\n",
       "<style>\n",
       "  .colab-df-quickchart {\n",
       "      --bg-color: #E8F0FE;\n",
       "      --fill-color: #1967D2;\n",
       "      --hover-bg-color: #E2EBFA;\n",
       "      --hover-fill-color: #174EA6;\n",
       "      --disabled-fill-color: #AAA;\n",
       "      --disabled-bg-color: #DDD;\n",
       "  }\n",
       "\n",
       "  [theme=dark] .colab-df-quickchart {\n",
       "      --bg-color: #3B4455;\n",
       "      --fill-color: #D2E3FC;\n",
       "      --hover-bg-color: #434B5C;\n",
       "      --hover-fill-color: #FFFFFF;\n",
       "      --disabled-bg-color: #3B4455;\n",
       "      --disabled-fill-color: #666;\n",
       "  }\n",
       "\n",
       "  .colab-df-quickchart {\n",
       "    background-color: var(--bg-color);\n",
       "    border: none;\n",
       "    border-radius: 50%;\n",
       "    cursor: pointer;\n",
       "    display: none;\n",
       "    fill: var(--fill-color);\n",
       "    height: 32px;\n",
       "    padding: 0;\n",
       "    width: 32px;\n",
       "  }\n",
       "\n",
       "  .colab-df-quickchart:hover {\n",
       "    background-color: var(--hover-bg-color);\n",
       "    box-shadow: 0 1px 2px rgba(60, 64, 67, 0.3), 0 1px 3px 1px rgba(60, 64, 67, 0.15);\n",
       "    fill: var(--button-hover-fill-color);\n",
       "  }\n",
       "\n",
       "  .colab-df-quickchart-complete:disabled,\n",
       "  .colab-df-quickchart-complete:disabled:hover {\n",
       "    background-color: var(--disabled-bg-color);\n",
       "    fill: var(--disabled-fill-color);\n",
       "    box-shadow: none;\n",
       "  }\n",
       "\n",
       "  .colab-df-spinner {\n",
       "    border: 2px solid var(--fill-color);\n",
       "    border-color: transparent;\n",
       "    border-bottom-color: var(--fill-color);\n",
       "    animation:\n",
       "      spin 1s steps(1) infinite;\n",
       "  }\n",
       "\n",
       "  @keyframes spin {\n",
       "    0% {\n",
       "      border-color: transparent;\n",
       "      border-bottom-color: var(--fill-color);\n",
       "      border-left-color: var(--fill-color);\n",
       "    }\n",
       "    20% {\n",
       "      border-color: transparent;\n",
       "      border-left-color: var(--fill-color);\n",
       "      border-top-color: var(--fill-color);\n",
       "    }\n",
       "    30% {\n",
       "      border-color: transparent;\n",
       "      border-left-color: var(--fill-color);\n",
       "      border-top-color: var(--fill-color);\n",
       "      border-right-color: var(--fill-color);\n",
       "    }\n",
       "    40% {\n",
       "      border-color: transparent;\n",
       "      border-right-color: var(--fill-color);\n",
       "      border-top-color: var(--fill-color);\n",
       "    }\n",
       "    60% {\n",
       "      border-color: transparent;\n",
       "      border-right-color: var(--fill-color);\n",
       "    }\n",
       "    80% {\n",
       "      border-color: transparent;\n",
       "      border-right-color: var(--fill-color);\n",
       "      border-bottom-color: var(--fill-color);\n",
       "    }\n",
       "    90% {\n",
       "      border-color: transparent;\n",
       "      border-bottom-color: var(--fill-color);\n",
       "    }\n",
       "  }\n",
       "</style>\n",
       "\n",
       "  <script>\n",
       "    async function quickchart(key) {\n",
       "      const quickchartButtonEl =\n",
       "        document.querySelector('#' + key + ' button');\n",
       "      quickchartButtonEl.disabled = true;  // To prevent multiple clicks.\n",
       "      quickchartButtonEl.classList.add('colab-df-spinner');\n",
       "      try {\n",
       "        const charts = await google.colab.kernel.invokeFunction(\n",
       "            'suggestCharts', [key], {});\n",
       "      } catch (error) {\n",
       "        console.error('Error during call to suggestCharts:', error);\n",
       "      }\n",
       "      quickchartButtonEl.classList.remove('colab-df-spinner');\n",
       "      quickchartButtonEl.classList.add('colab-df-quickchart-complete');\n",
       "    }\n",
       "    (() => {\n",
       "      let quickchartButtonEl =\n",
       "        document.querySelector('#df-9ab51e66-2fa7-489b-a7ee-751ffee08866 button');\n",
       "      quickchartButtonEl.style.display =\n",
       "        google.colab.kernel.accessAllowed ? 'block' : 'none';\n",
       "    })();\n",
       "  </script>\n",
       "</div>\n",
       "\n",
       "  <div id=\"id_abed34f9-9d67-4e5e-bd88-b72b6ec05a70\">\n",
       "    <style>\n",
       "      .colab-df-generate {\n",
       "        background-color: #E8F0FE;\n",
       "        border: none;\n",
       "        border-radius: 50%;\n",
       "        cursor: pointer;\n",
       "        display: none;\n",
       "        fill: #1967D2;\n",
       "        height: 32px;\n",
       "        padding: 0 0 0 0;\n",
       "        width: 32px;\n",
       "      }\n",
       "\n",
       "      .colab-df-generate:hover {\n",
       "        background-color: #E2EBFA;\n",
       "        box-shadow: 0px 1px 2px rgba(60, 64, 67, 0.3), 0px 1px 3px 1px rgba(60, 64, 67, 0.15);\n",
       "        fill: #174EA6;\n",
       "      }\n",
       "\n",
       "      [theme=dark] .colab-df-generate {\n",
       "        background-color: #3B4455;\n",
       "        fill: #D2E3FC;\n",
       "      }\n",
       "\n",
       "      [theme=dark] .colab-df-generate:hover {\n",
       "        background-color: #434B5C;\n",
       "        box-shadow: 0px 1px 3px 1px rgba(0, 0, 0, 0.15);\n",
       "        filter: drop-shadow(0px 1px 2px rgba(0, 0, 0, 0.3));\n",
       "        fill: #FFFFFF;\n",
       "      }\n",
       "    </style>\n",
       "    <button class=\"colab-df-generate\" onclick=\"generateWithVariable('train_dataset')\"\n",
       "            title=\"Generate code using this dataframe.\"\n",
       "            style=\"display:none;\">\n",
       "\n",
       "  <svg xmlns=\"http://www.w3.org/2000/svg\" height=\"24px\"viewBox=\"0 0 24 24\"\n",
       "       width=\"24px\">\n",
       "    <path d=\"M7,19H8.4L18.45,9,17,7.55,7,17.6ZM5,21V16.75L18.45,3.32a2,2,0,0,1,2.83,0l1.4,1.43a1.91,1.91,0,0,1,.58,1.4,1.91,1.91,0,0,1-.58,1.4L9.25,21ZM18.45,9,17,7.55Zm-12,3A5.31,5.31,0,0,0,4.9,8.1,5.31,5.31,0,0,0,1,6.5,5.31,5.31,0,0,0,4.9,4.9,5.31,5.31,0,0,0,6.5,1,5.31,5.31,0,0,0,8.1,4.9,5.31,5.31,0,0,0,12,6.5,5.46,5.46,0,0,0,6.5,12Z\"/>\n",
       "  </svg>\n",
       "    </button>\n",
       "    <script>\n",
       "      (() => {\n",
       "      const buttonEl =\n",
       "        document.querySelector('#id_abed34f9-9d67-4e5e-bd88-b72b6ec05a70 button.colab-df-generate');\n",
       "      buttonEl.style.display =\n",
       "        google.colab.kernel.accessAllowed ? 'block' : 'none';\n",
       "\n",
       "      buttonEl.onclick = () => {\n",
       "        google.colab.notebook.generateWithVariable('train_dataset');\n",
       "      }\n",
       "      })();\n",
       "    </script>\n",
       "  </div>\n",
       "\n",
       "    </div>\n",
       "  </div>\n"
      ],
      "application/vnd.google.colaboratory.intrinsic+json": {
       "type": "dataframe",
       "variable_name": "train_dataset",
       "summary": "{\n  \"name\": \"train_dataset\",\n  \"rows\": 291,\n  \"fields\": [\n    {\n      \"column\": \"init_prompt\",\n      \"properties\": {\n        \"dtype\": \"string\",\n        \"num_unique_values\": 291,\n        \"samples\": [\n          \"Write a 300-word introduction for my research paper on sustainable agriculture.\",\n          \"Solve this algebraic expression and provide the answer: (5x - 3)(2x + 4).\",\n          \"Draft an email requesting feedback on my latest marketing campaign.\"\n        ],\n        \"semantic_type\": \"\",\n        \"description\": \"\"\n      }\n    },\n    {\n      \"column\": \"init_response\",\n      \"properties\": {\n        \"dtype\": \"string\",\n        \"num_unique_values\": 291,\n        \"samples\": [\n          \"Okay, here's a 300-word introduction for your research paper on sustainable agriculture, aiming for a balance of context, problem statement, and your paper's focus. Feel free to adapt it to specifically reflect your research question and findings:\\n\\n---\\n\\n**Introduction**\\n\\nThe global food system faces an unprecedented confluence of challenges \\u2013 from a rapidly growing population demanding increased yields to escalating concerns about environmental degradation and the health of consumers. Conventional agricultural practices, historically prioritizing short-term profit over long-term sustainability, have demonstrably contributed to soil erosion, water pollution, biodiversity loss, and significant greenhouse gas emissions.  This reliance on synthetic fertilizers, pesticides, and intensive monoculture farming has, in many ways, jeopardized the very resources upon which our future food security depends.\\n\\nHowever, a powerful alternative is emerging: sustainable agriculture. This approach transcends simply \\u2018farming\\u2019; it represents a holistic philosophy centered on ecological principles, social equity, and economic viability.  Rather than viewing agriculture as a purely extractive industry, sustainable practices recognize the inherent value of natural ecosystems and seek to work *with* them, rather than against them.\\n\\nThis research paper delves into the critical importance and evolving landscape of sustainable agriculture.  Specifically, it will explore [**Clearly state your research focus here \\u2013 e.g., \\u201cthe impact of cover cropping on soil health in [specific region],\\u201d or \\u201ca comparative analysis of organic farming systems and their economic performance\\u201d**].  We will examine key components of sustainable agriculture, including practices like crop rotation, integrated pest management, reduced tillage, and agroforestry, and analyze their potential to mitigate the negative impacts of conventional farming. \\n\\nFurthermore, this paper will investigate [**Mention key aspects you\\u2019ll discuss \\u2013 e.g., \\u201cthe challenges and barriers to widespread adoption,\\u201d \\u201cthe role of policy and consumer demand,\\u201d or \\u201cspecific case studies demonstrating successful implementation\\u201d**]. Ultimately, this research aims to contribute to a deeper understanding of how we can transition towards a more resilient, equitable, and environmentally sound food system \\u2013 a system capable of nourishing both people and the planet.\\n\\n\\n\\n---\\n\\n**To help me tailor this even further, could you tell me:**\\n\\n*   **What is the specific focus of your research paper?** (e.g., a particular technique, region, or aspect of sustainability?)\\n*   **What are the main arguments or findings you'll be presenting?**\\n*   **What is the overall goal of your paper?** (e.g., to advocate for a specific policy, to analyze a specific case study, to propose a new approach?)\",\n          \"To solve the algebraic expression (5x - 3)(2x + 4), we need to expand it by multiplying each term in the first parenthesis by each term in the second parenthesis.\\n\\n(5x - 3)(2x + 4) = (5x)(2x) + (5x)(4) + (-3)(2x) + (-3)(4)\\n= 10x^2 + 20x - 6x - 12\\n= 10x^2 + (20x - 6x) - 12\\n= 10x^2 + 14x - 12\\n\\nSo, (5x - 3)(2x + 4) = 10x^2 + 14x - 12.\\n\\nFinal Answer: The final answer is $\\\\boxed{10x^2 + 14x - 12}$\",\n          \"Okay, here are a few drafts of an email requesting feedback on your latest marketing campaign, ranging from more formal to slightly more casual. Choose the one that best suits your relationship with the recipients and the overall tone of your brand:\\n\\n**Option 1: Formal & Detailed**\\n\\nSubject: Request for Feedback: [Campaign Name] Marketing Campaign\\n\\nDear [Recipient Name],\\n\\nHope you're having a productive week.\\n\\nWe recently concluded our [Campaign Name] marketing campaign, and we\\u2019re eager to gather your valuable feedback on its performance.  As a key stakeholder/customer/partner [Choose the most relevant description], your insights are incredibly important to us.\\n\\nThe campaign focused on [Briefly describe the campaign's goal \\u2013 e.g., increasing brand awareness, driving leads, promoting a specific product].  It included [Briefly list the key channels used - e.g., email marketing, social media ads, website banners].\\n\\nWe would be grateful if you could take some time to share your thoughts on the following:\\n\\n*   **Overall Impression:** What was your initial reaction to the campaign?\\n*   **Messaging:** Did the messaging resonate with you?  Was it clear and engaging?\\n*   **Call to Action:** Did you understand and respond to the calls to action (e.g., \\u201cLearn More,\\u201d \\u201cShop Now\\\")?\\n*   **Channels:** Which channels did you find most effective (if any)?\\n*   **Suggestions:**  Do you have any suggestions for improvement?\\n\\nYou can reply directly to this email with your feedback, or if you prefer, we'd be happy to schedule a brief call to discuss.  Please let us know by [Date - give a reasonable deadline, e.g., one week].\\n\\nThank you for your time and consideration.\\n\\nSincerely,\\n\\n[Your Name]\\n\\n[Your Title]\\n\\n[Your Company]\\n\\n**Option 2: Slightly Less Formal & More Conversational**\\n\\nSubject:  We'd Love Your Thoughts on Our Latest Campaign!\\n\\nHi [Recipient Name],\\n\\nWe just wrapped up our [Campaign Name] marketing campaign and wanted to get your honest opinion!\\n\\nWe were aiming to [Briefly state the campaign's goal \\u2013 e.g., get more people talking about our new product]. We used [Mention key channels briefly \\u2013 e.g., social media and email].\\n\\nWe'd really appreciate it if you could share your thoughts on what worked well and what didn\\u2019t.  No pressure, just want to hear your perspective.\\n\\nSpecifically, we\\u2019re curious about:\\n\\n*   What did you think of the campaign overall?\\n*   Did anything stand out to you (good or bad)?\\n*   Do you have any ideas on how we could make it even better next time?\\n\\nYou can just reply to this email with your feedback whenever is convenient for you.  Ideally, we'd love to hear from you by [Date].\\n\\nThanks so much!\\n\\nBest,\\n\\n[Your Name]\\n\\n[Your Company]\\n\\n**Option 3: Short & Sweet (Best for smaller groups or quick feedback)**\\n\\nSubject: Feedback Request: [Campaign Name]\\n\\nHi [Recipient Name],\\n\\nQuick question \\u2013 we\\u2019d love to get your thoughts on our recent [Campaign Name] marketing campaign!\\n\\nWe were trying to [Briefly state the campaign's goal].  We used [Mention key channels].\\n\\nCould you spare a few minutes to share your overall impression?  Anything you particularly liked or thought could be improved?\\n\\nJust reply to this email if you have a moment.  Thanks!\\n\\n[Your Name]\\n\\n[Your Company]\\n\\n---\\n\\n**Important Notes & Customization:**\\n\\n*   **Replace the bracketed information** with your specific details.\\n*   **Tailor the questions:**  Adjust the questions to be relevant to the specific goals and channels of your campaign.\\n*   **Consider your audience:** Choose the tone and level of detail that will resonate best with the people you're asking for feedback.\\n*   **Make it easy to respond:**  Keep your email concise and easy to read.  Provide clear instructions on how to give feedback.\\n*   **Thank you:** Always express your gratitude for their time and input.\\n\\nTo help me tailor the email even further, could you tell me:\\n\\n*   What was the specific goal of the campaign?\\n*   Who are you sending this email to (e.g., customers, employees, partners)?\\n*   What were the key channels used in the campaign?\"\n        ],\n        \"semantic_type\": \"\",\n        \"description\": \"\"\n      }\n    },\n    {\n      \"column\": \"critic_prompt\",\n      \"properties\": {\n        \"dtype\": \"category\",\n        \"num_unique_values\": 15,\n        \"samples\": [\n          \"Think carefully about whether the response handed the solution to the student too easily. What is the strongest argument you can make that the response discouraged independent thinking?\",\n          \"Think about whether the response helped the student see how this problem connects to other topics they\\u2019ve learned. If it didn\\u2019t, how could it have drawn those connections?\",\n          \"Think about whether the response inspired curiosity in the student. For example, did it suggest new questions they could explore or encourage them to investigate further?\"\n        ],\n        \"semantic_type\": \"\",\n        \"description\": \"\"\n      }\n    },\n    {\n      \"column\": \"critic_response\",\n      \"properties\": {\n        \"dtype\": \"string\",\n        \"num_unique_values\": 291,\n        \"samples\": [\n          \"The previous response, while providing a solid introductory paragraph, missed a crucial opportunity to demonstrate a broader connection between sustainable agriculture and other relevant topics the student might have encountered. It primarily focused on the problem statement \\u2013 the issues with conventional agriculture \\u2013 and introduced sustainable agriculture as a solution, but didn\\u2019t explicitly link it to concepts or areas of study beyond the immediate topic. \\n\\nSpecifically, it lacked any discussion of how sustainable agriculture relates to broader fields like environmental science, economics, social justice, or even public health. It presented a somewhat isolated argument, failing to demonstrate how this research fits within a larger intellectual conversation. The introduction felt a bit like a standalone justification for studying sustainable agriculture, rather than showcasing its relevance to a wider range of disciplines and concerns the student may have already engaged with. It didn\\u2019t organically weave in connections that would illuminate the significance of the research and its potential impact.\",\n          \"The response oversimplifies the concept by primarily focusing on the mechanical multiplication process without explicitly explaining *why* we multiply each term in the first parenthesis by each term in the second. It essentially just presents the steps without connecting them to the underlying distributive property.  A student might be able to perform the multiplication correctly, but they wouldn't necessarily grasp the fundamental principle of expanding the expression \\u2013 that we're distributing the \\u20185x\\u2019 across \\u20182x\\u2019 and \\u20184\\u2019, and the \\u2018-3\\u2019 across \\u20182x\\u2019 and \\u20184\\u2019.  It lacks an explanation of the distributive property as the reason for the calculation.\",\n          \"Yes, the response effectively kept the student engaged in the learning process. It successfully posed questions that required their input, prompting them to reflect on the campaign and offer their perspective. The questions were thoughtfully designed to elicit specific feedback \\u2013 not just general impressions \\u2013 and clearly stated what the sender was hoping to learn from the student's response.  The prompts regarding channels and messaging demonstrate a desire for detailed, actionable insights.\"\n        ],\n        \"semantic_type\": \"\",\n        \"description\": \"\"\n      }\n    },\n    {\n      \"column\": \"revision_prompt\",\n      \"properties\": {\n        \"dtype\": \"category\",\n        \"num_unique_values\": 15,\n        \"samples\": [\n          \"Revise the response to focus on guiding the student toward the solution through prompts or hints, without explicitly solving the problem for them.\",\n          \"Rewrite the response to include connections to related concepts or topics, helping the student integrate their knowledge.\",\n          \"Rewrite the response to include prompts or suggestions that spark curiosity and invite the student to explore the topic more deeply.\"\n        ],\n        \"semantic_type\": \"\",\n        \"description\": \"\"\n      }\n    },\n    {\n      \"column\": \"revision_response\",\n      \"properties\": {\n        \"dtype\": \"string\",\n        \"num_unique_values\": 291,\n        \"samples\": [\n          \"**Introduction**\\n\\nThe global food system faces an unprecedented confluence of challenges \\u2013 from a rapidly growing population demanding increased yields to escalating concerns about environmental degradation and the health of consumers. Conventional agricultural practices, historically prioritizing short-term profit over long-term sustainability, have demonstrably contributed to soil erosion, water pollution, biodiversity loss, and significant greenhouse gas emissions. This reliance on synthetic fertilizers, pesticides, and intensive monoculture farming has, in many ways, jeopardized the very resources upon which our future food security depends.  Furthermore, these practices are increasingly recognized to contribute to wider issues like rural economic decline and disparities in access to nutritious food, aligning with concerns around food security and social equity.\\n\\nHowever, a powerful alternative is emerging: sustainable agriculture. This approach transcends simply \\u2018farming\\u2019; it represents a holistic philosophy centered on ecological principles, social equity, and economic viability \\u2013 directly addressing the critiques of conventional methods. Recognizing the interconnectedness of ecological health with economic stability and community well-being, sustainable practices like crop rotation, integrated pest management, reduced tillage, and agroforestry are designed to mimic natural ecosystems, fostering resilience and minimizing negative impacts.\\n\\nThis research paper delves into the critical importance and evolving landscape of sustainable agriculture, specifically exploring [**Clearly state your research focus here \\u2013 e.g., \\u201cthe impact of cover cropping on soil health in [specific region],\\u201d or \\u201ca comparative analysis of organic farming systems and their economic performance\\u201d**]. We will examine how these practices align with broader concepts within environmental science, such as carbon sequestration and biodiversity conservation, and analyze their potential to mitigate the negative impacts of conventional farming.  Importantly, this research acknowledges the socioeconomic dimensions \\u2013 considering how sustainable agriculture can support local economies, empower small-scale farmers, and potentially improve access to healthier, locally-sourced food. Furthermore, the paper will investigate [**Mention key aspects you\\u2019ll discuss \\u2013 e.g., \\u201cthe challenges and barriers to widespread adoption,\\u201d \\u201cthe role of policy and consumer demand,\\u201d or \\u201cspecific case studies demonstrating successful implementation\\u201d**]. Ultimately, this research aims to contribute to a deeper understanding of how we can transition towards a more resilient, equitable, and environmentally sound food system \\u2013 a system capable of nourishing both people and the planet, informed by insights from public health, economics, and social sciences.\\n\\n\\n\\n---\",\n          \"To solve (5x - 3)(2x + 4), we need to expand this expression using the distributive property. This property essentially means multiplying each term inside the first set of parentheses by each term inside the second set of parentheses.\\n\\nLet's break it down step-by-step:\\n\\n1. **Multiply the first term of the first set by both terms of the second set:**  (5x)(2x) + (5x)(4) = 10x\\u00b2 + 20x\\n\\n2. **Multiply the second term of the first set by both terms of the second set:** (-3)(2x) + (-3)(4) = -6x - 12\\n\\n3. **Combine the results:** 10x\\u00b2 + 20x - 6x - 12\\n\\n4. **Combine like terms:**  10x\\u00b2 + (20x - 6x) - 12 = 10x\\u00b2 + 14x - 12\\n\\nTherefore, (5x - 3)(2x + 4) = 10x\\u00b2 + 14x - 12.\\n\\nThe distributive property is key here: we\\u2019re distributing the \\u20185x\\u2019 across the \\u20182x + 4\\u2019 and the \\u2018-3\\u2019 across the \\u20182x + 4\\u2019.  This ensures we multiply *every* term in the first parenthesis by *every* term in the second, giving us a fully expanded expression.  Remember, expanding expressions like this is a fundamental skill in algebra, and understanding the distributive property is crucial for success.\",\n          \"Okay, let\\u2019s revamp the email to be more interactive and engaging. Here\\u2019s a revised version:\\n\\nSubject: Let\\u2019s Talk About That Marketing Campaign \\u2013 Your Input Matters!\\n\\nHi [Recipient Name],\\n\\nGreat question \\u2013 let\\u2019s dive into whether the previous response truly kept you engaged! You\\u2019re right to ask \\u2013 it\\u2019s important that feedback feels like a genuine conversation, not just a list of questions.\\n\\nI\\u2019ve reworked the email to build in a few more interactive elements. Instead of just *asking* for feedback, let\\u2019s explore it together a bit.\\n\\nHere\\u2019s the revised draft:\\n\\n[\\u2026 (Insert Option 1 from the previous response, but with these changes\\u2026) \\u2026]\\n\\n**Instead of:** \\u201cWe would be grateful if you could take some time to share your thoughts on the following\\u2026\\u201d\\n\\n**Let\\u2019s try:** \\u201cTo help me understand *what* resonated with you, could you tell me: **Which part of the campaign \\u2013 the messaging, a specific channel, or the overall concept \\u2013 stood out the most and *why*?** (Just a sentence or two would be fantastic!)\\u201d\\n\\n**Instead of:** \\u201cYou can reply directly to this email with your feedback\\u2026\\u201d\\n\\n**Let\\u2019s try:** \\u201cI\\u2019d love to hear your thoughts!  **If you could redesign one element of the campaign, what would it be and how would you change it?**  (Don\\u2019t worry about being \\u2018right\\u2019 \\u2013 I\\u2019m just curious about your ideas.)\\u201d\\n\\n**Adding a little something extra:** \\u201cTo help guide our discussion, could you quickly rate the campaign on a scale of 1-5 (1 = didn\\u2019t grab my attention at all, 5 = completely captivating)? Just a quick number is fine!\\u201d\\n\\nThank you so much for your time and willingness to help me improve!\\n\\nSincerely,\\n\\n[Your Name]\\n\\n[Your Title]\\n\\n[Your Company]\\n\\n---\\n\\n**Key changes explained:**\\n\\n*   **Direct Address & Enthusiasm:** Starting with acknowledging the student\\u2019s question and expressing a desire for a \\u201cgenuine conversation.\\u201d\\n*   **Open-ended questions:** Replacing closed-ended questions with prompts that encourage explanation and elaboration.\\n*   **Specificity:** Asking \\u201cwhy\\u201d to understand the reasoning behind their responses.\\n*   **Creative prompts:** Adding a redesign prompt to stimulate imaginative thinking.\\n*   **Simple Rating Scale:** Providing a quick, easy metric to gauge initial impressions.\\n\\nDoes this version feel more engaging and interactive?\"\n        ],\n        \"semantic_type\": \"\",\n        \"description\": \"\"\n      }\n    }\n  ]\n}"
      }
     },
     "metadata": {},
     "execution_count": 4
    }
   ],
   "source": [
    "train_dataset = pd.read_csv(data_args.train_file)\n",
    "eval_dataset = pd.read_csv(data_args.validation_file)\n",
    "\n",
    "train_dataset"
   ]
  },
  {
   "cell_type": "markdown",
   "metadata": {
    "id": "czPB6ac4jb5X"
   },
   "source": [
    "### Data Pre-processing\n",
    "\n",
    "We prepare our training data by formatting the conversations to match Gemma's expected chat template:\n",
    "\n",
    "1. **Conversation Format**: Each training instance combines:\n",
    "   - User input (`init_prompt`)\n",
    "   - Desired response (`revision_response`)\n",
    "\n",
    "2. **Dataset Creation**: Convert the formatted conversations into HuggingFace `Dataset` objects for both training and evaluation sets"
   ]
  },
  {
   "cell_type": "code",
   "execution_count": 5,
   "metadata": {
    "colab": {
     "base_uri": "https://localhost:8080/"
    },
    "id": "3NFH19NqeqeF",
    "outputId": "e728031a-5a3f-4b3a-c18d-b7050e59fe1f"
   },
   "outputs": [
    {
     "output_type": "stream",
     "name": "stdout",
     "text": [
      "('Sample conversation:\\n'\n",
      " '<|start_header_id|>user<|end_header_id|>\\n'\n",
      " '\\n'\n",
      " 'Solve this equation and show me the answer: 3x + 7 = '\n",
      " '22.<|eot_id|><|start_header_id|>assistant<|end_header_id|>\\n'\n",
      " '\\n'\n",
      " 'Okay, let’s solve the equation 3x + 7 = 22!\\n'\n",
      " '\\n'\n",
      " 'First, we need to get ‘x’ by itself. Let’s subtract 7 from both sides – what '\n",
      " 'do you think happens when we do that? (Pause briefly to let the student '\n",
      " 'respond).  That gives us 3x = 15. Now, what’s the next step to find out what '\n",
      " '‘x’ actually *is*?  Think about how many times 3 goes into 15.  Could you '\n",
      " 'write that out? (Encourage them to show their work).  You’ll find that x '\n",
      " 'equals 5!\\n'\n",
      " '\\n'\n",
      " 'Now, that’s the answer, but let’s check it out.  Go back to the original '\n",
      " 'equation, 3x + 7 = 22, and plug in 5 for ‘x’. Does it work? (Pause for '\n",
      " 'student to verify).  Great!\\n'\n",
      " '\\n'\n",
      " 'Here are a few things to think about: What if the number on the right side '\n",
      " 'of the equation (the ‘22’) was different? How would that change the steps we '\n",
      " 'took to solve for ‘x’? Could we create our own equations with similar steps? '\n",
      " 'Maybe try changing the 7 to a different number and seeing what happens? Or, '\n",
      " 'what if we had a more complex equation with fractions or decimals? How would '\n",
      " 'we adjust our approach then?<|eot_id|>')\n",
      "'Number of training examples: 291'\n"
     ]
    }
   ],
   "source": [
    "### Data Pre-processing\n",
    "def prepare_dataset(df):\n",
    "    \"\"\"\n",
    "    Prepare dataset for SFT by combining init_prompt and revision_response into conversations\n",
    "    following the exact Llama-3 chat template format.\n",
    "    Returns a list of dictionaries with 'text' field containing the formatted conversation.\n",
    "    \"\"\"\n",
    "    conversations = []\n",
    "    for _, row in df.iterrows():\n",
    "        # Ensure strings and handle potential NaN values\n",
    "        init_prompt = str(row['init_prompt']) if pd.notna(row['init_prompt']) else \"\"\n",
    "        revision_response = str(row['revision_response']) if pd.notna(row['revision_response']) else \"\"\n",
    "\n",
    "        # Format conversation using Llama-3 template\n",
    "        conversation = {\n",
    "            \"text\": f\"<|start_header_id|>user<|end_header_id|>\\n\\n{init_prompt}<|eot_id|>\" +\n",
    "                   f\"<|start_header_id|>assistant<|end_header_id|>\\n\\n{revision_response}<|eot_id|>\"\n",
    "        }\n",
    "        conversations.append(conversation)\n",
    "    return conversations\n",
    "\n",
    "# Prepare datasets for training\n",
    "train_dataset = prepare_dataset(train_dataset)\n",
    "eval_dataset = prepare_dataset(eval_dataset)\n",
    "\n",
    "# Convert to Dataset format\n",
    "train_dataset = Dataset.from_list(train_dataset)\n",
    "eval_dataset = Dataset.from_list(eval_dataset)\n",
    "\n",
    "import pprint\n",
    "\n",
    "pprint.pprint(\"Sample conversation:\\n\" + train_dataset[0]['text'])\n",
    "pprint.pprint(f\"Number of training examples: {len(train_dataset)}\")"
   ]
  },
  {
   "cell_type": "markdown",
   "metadata": {
    "id": "UDDwkXIcjb5Y"
   },
   "source": [
    "## Training Setup\n",
    "\n",
    "We set up the training process in two steps:\n",
    "\n",
    "1. **SFT Trainer Initialization**: Create a trainer with our prepared model, tokenizer, and datasets using the configuration we defined earlier\n",
    "\n",
    "2. **Response-Only Training**: Optimize the training by focusing only on generating the model's responses rather than the full conversation. This means we:\n",
    "   - Train on the parts after the response token (`<start_of_turn>model`)\n",
    "   - Skip training on user inputs\n",
    "   - Maintain the conversation format while being more efficient"
   ]
  },
  {
   "cell_type": "code",
   "execution_count": 6,
   "metadata": {
    "colab": {
     "base_uri": "https://localhost:8080/",
     "height": 145
    },
    "id": "47nfzSwIYjd1",
    "outputId": "8266880b-5cc6-4adf-d2ee-402a71d68b07"
   },
   "outputs": [
    {
     "output_type": "display_data",
     "data": {
      "text/plain": [
       "Unsloth: Tokenizing [\"text\"] (num_proc=2):   0%|          | 0/291 [00:00<?, ? examples/s]"
      ],
      "application/vnd.jupyter.widget-view+json": {
       "version_major": 2,
       "version_minor": 0,
       "model_id": "0186d26fd75f4bbdadbb9103ec57f56b"
      }
     },
     "metadata": {}
    },
    {
     "output_type": "display_data",
     "data": {
      "text/plain": [
       "Unsloth: Tokenizing [\"text\"] (num_proc=2):   0%|          | 0/37 [00:00<?, ? examples/s]"
      ],
      "application/vnd.jupyter.widget-view+json": {
       "version_major": 2,
       "version_minor": 0,
       "model_id": "c3ff45984c3d48c198cfc6e73431874e"
      }
     },
     "metadata": {}
    },
    {
     "output_type": "display_data",
     "data": {
      "text/plain": [
       "Map (num_proc=2):   0%|          | 0/291 [00:00<?, ? examples/s]"
      ],
      "application/vnd.jupyter.widget-view+json": {
       "version_major": 2,
       "version_minor": 0,
       "model_id": "2053c343912248f1b6e5c660052f97b9"
      }
     },
     "metadata": {}
    },
    {
     "output_type": "display_data",
     "data": {
      "text/plain": [
       "Map (num_proc=2):   0%|          | 0/37 [00:00<?, ? examples/s]"
      ],
      "application/vnd.jupyter.widget-view+json": {
       "version_major": 2,
       "version_minor": 0,
       "model_id": "9e8359408e6440eba0851a76dd4d3ecd"
      }
     },
     "metadata": {}
    }
   ],
   "source": [
    "# Initialize the Trainer\n",
    "trainer = SFTTrainer(\n",
    "    model=model,\n",
    "    tokenizer=tokenizer,\n",
    "    train_dataset=train_dataset,\n",
    "    eval_dataset=eval_dataset,\n",
    "    args=training_args.get_sft_config(),\n",
    ")\n",
    "\n",
    "# Apply training on completions only\n",
    "trainer = train_on_responses_only(\n",
    "    trainer,\n",
    "    instruction_part=data_args.instruction_token,\n",
    "    response_part=data_args.response_token,\n",
    ")"
   ]
  },
  {
   "cell_type": "markdown",
   "metadata": {
    "id": "Z-kJs_kpjb5Y"
   },
   "source": [
    "## Training Process\n",
    "\n",
    "Our training process is designed to efficiently teach the model while preventing overfitting:\n",
    "\n",
    "### Batch Processing\n",
    "- Small batches (size 2) with gradient accumulation (4 steps)\n",
    "- Why? This approach:\n",
    "  - Maintains stable training\n",
    "  - Maximizes GPU memory efficiency\n",
    "  - Effectively simulates larger batch sizes\n",
    "\n",
    "### Learning Rate Schedule\n",
    "- Linear warmup followed by linear decay\n",
    "- Why? This helps:\n",
    "  - Stabilize initial training\n",
    "  - Prevent overshooting optimal parameters\n",
    "  - Gradually fine-tune final adjustments\n",
    "\n",
    "### Monitoring\n",
    "- Loss tracking\n",
    "- Why? Helps us:\n",
    "  - Detect potential issues early\n",
    "  - Ensure we're improving teaching capability\n",
    "  - Prevent overfitting to training data"
   ]
  },
  {
   "cell_type": "code",
   "execution_count": 7,
   "metadata": {
    "colab": {
     "base_uri": "https://localhost:8080/",
     "height": 684
    },
    "id": "eX73SQv3im7J",
    "outputId": "6177daa9-5e9c-4755-e9f7-8c05f1164be0"
   },
   "outputs": [
    {
     "output_type": "stream",
     "name": "stderr",
     "text": [
      "==((====))==  Unsloth - 2x faster free finetuning | Num GPUs used = 1\n",
      "   \\\\   /|    Num examples = 291 | Num Epochs = 2 | Total steps = 50\n",
      "O^O/ \\_/ \\    Batch size per device = 2 | Gradient accumulation steps = 4\n",
      "\\        /    Data Parallel GPUs = 1 | Total batch size (2 x 4 x 1) = 8\n",
      " \"-____-\"     Trainable parameters = 5,636,096/1,000,000,000 (0.56% trained)\n"
     ]
    },
    {
     "output_type": "stream",
     "name": "stdout",
     "text": [
      "Unsloth: Will smartly offload gradients to save VRAM!\n"
     ]
    },
    {
     "output_type": "display_data",
     "data": {
      "text/plain": [
       "<IPython.core.display.HTML object>"
      ],
      "text/html": [
       "\n",
       "    <div>\n",
       "      \n",
       "      <progress value='50' max='50' style='width:300px; height:20px; vertical-align: middle;'></progress>\n",
       "      [50/50 03:06, Epoch 1/2]\n",
       "    </div>\n",
       "    <table border=\"1\" class=\"dataframe\">\n",
       "  <thead>\n",
       " <tr style=\"text-align: left;\">\n",
       "      <th>Step</th>\n",
       "      <th>Training Loss</th>\n",
       "    </tr>\n",
       "  </thead>\n",
       "  <tbody>\n",
       "    <tr>\n",
       "      <td>3</td>\n",
       "      <td>2.002500</td>\n",
       "    </tr>\n",
       "    <tr>\n",
       "      <td>6</td>\n",
       "      <td>2.006800</td>\n",
       "    </tr>\n",
       "    <tr>\n",
       "      <td>9</td>\n",
       "      <td>2.044600</td>\n",
       "    </tr>\n",
       "    <tr>\n",
       "      <td>12</td>\n",
       "      <td>1.976500</td>\n",
       "    </tr>\n",
       "    <tr>\n",
       "      <td>15</td>\n",
       "      <td>1.887100</td>\n",
       "    </tr>\n",
       "    <tr>\n",
       "      <td>18</td>\n",
       "      <td>1.979400</td>\n",
       "    </tr>\n",
       "    <tr>\n",
       "      <td>21</td>\n",
       "      <td>1.945300</td>\n",
       "    </tr>\n",
       "    <tr>\n",
       "      <td>24</td>\n",
       "      <td>1.913800</td>\n",
       "    </tr>\n",
       "    <tr>\n",
       "      <td>27</td>\n",
       "      <td>1.744500</td>\n",
       "    </tr>\n",
       "    <tr>\n",
       "      <td>30</td>\n",
       "      <td>1.851900</td>\n",
       "    </tr>\n",
       "    <tr>\n",
       "      <td>33</td>\n",
       "      <td>1.869600</td>\n",
       "    </tr>\n",
       "    <tr>\n",
       "      <td>36</td>\n",
       "      <td>1.786900</td>\n",
       "    </tr>\n",
       "    <tr>\n",
       "      <td>39</td>\n",
       "      <td>1.736600</td>\n",
       "    </tr>\n",
       "    <tr>\n",
       "      <td>42</td>\n",
       "      <td>1.841100</td>\n",
       "    </tr>\n",
       "    <tr>\n",
       "      <td>45</td>\n",
       "      <td>1.672000</td>\n",
       "    </tr>\n",
       "    <tr>\n",
       "      <td>48</td>\n",
       "      <td>1.847800</td>\n",
       "    </tr>\n",
       "  </tbody>\n",
       "</table><p>"
      ]
     },
     "metadata": {}
    }
   ],
   "source": [
    "# Training\n",
    "train_result = trainer.train()\n",
    "metrics = train_result.metrics"
   ]
  },
  {
   "cell_type": "code",
   "execution_count": 8,
   "metadata": {
    "colab": {
     "base_uri": "https://localhost:8080/"
    },
    "id": "stoTFyleoO-I",
    "outputId": "03bacfd6-0fb6-4431-b622-b11f6f6385d7"
   },
   "outputs": [
    {
     "output_type": "execute_result",
     "data": {
      "text/plain": [
       "('/content/drive/MyDrive/constitutional-ai-education/models/Llama-3.2-1B-sft-edu/tokenizer_config.json',\n",
       " '/content/drive/MyDrive/constitutional-ai-education/models/Llama-3.2-1B-sft-edu/special_tokens_map.json',\n",
       " '/content/drive/MyDrive/constitutional-ai-education/models/Llama-3.2-1B-sft-edu/tokenizer.json')"
      ]
     },
     "metadata": {},
     "execution_count": 8
    }
   ],
   "source": [
    "model.save_pretrained(os.path.join(wrk_dir, \"models/Llama-3.2-1B-sft-edu\"))\n",
    "tokenizer.save_pretrained(os.path.join(wrk_dir, \"models/Llama-3.2-1B-sft-edu\"))"
   ]
  },
  {
   "cell_type": "code",
   "execution_count": 9,
   "metadata": {
    "colab": {
     "base_uri": "https://localhost:8080/",
     "height": 143
    },
    "id": "lVE1_Rh4pn96",
    "outputId": "5084f5a1-7c32-409e-928f-f6c3ce9f775b"
   },
   "outputs": [
    {
     "output_type": "execute_result",
     "data": {
      "text/plain": [
       "\"<|begin_of_text|><|start_header_id|>user<|end_header_id|>\\n\\nCan you design a logo for my school's robotics club?<|eot_id|><|start_header_id|>assistant<|end_header_id|>\\n\\nOkay, let’s design a logo for your school’s robotics club! That’s fantastic – a great way to visually represent your team’s spirit. I want to make sure we’re on the same page about how logos work, so let’s talk through some ideas and clarify a few things.\\n\\nWe’ll explore three distinct concepts, and I’ll explain the thinking behind each one. Importantly, logo design isn’t just about making something “cool”; it’s about communicating your club’s identity – what you’re about.\\n\\n**Concept 1: The Dynamic Gear**\\n\\n* **Image:** A stylized, slightly angled gear. The gear isn't perfectly symmetrical, suggesting movement and energy. Within the gear, you see a simplified silhouette of a robot arm (or a stylized ‘R’ shape).\\n* **Colors:**\\n    * **Primary:** Electric Blue (#007bff) – Blue is often associated with intelligence, technology, and trust – really good choices for a robotics club! It's a color that feels reliable and innovative.\\n    * **Secondary:** Gray (#495057) – Provides a solid, grounding element representing the mechanical aspects of robotics.\\n    * **Accent:** Bright Yellow (#ffc107) – Adds a spark of creativity and enthusiasm. Yellow is energetic and optimistic.\\n* **Font:** A modern, slightly rounded sans-serif font like Montserrat or Open Sans.\\n* **Symbolism:** The gear immediately conveys robotics and engineering. The robot arm within the gear represents the club’s focus on building and designing robots. The angled design suggests dynamism and progress.\\n* **Why this works:** We’re using color psychology – selecting colors that *represent* the qualities we want associated with your club.  It’s not just about picking colors we like; it's about choosing colors that communicate effectively.\\n\\n**Concept 2: The Rising Circuit**\\n\\n* **Image:** A simplified, upward-pointing circuit board path, subtly forming the shape of a rising star or a stylized upward arrow.\\n* **Colors:**\\n    * **Primary:** Teal (#008080) – Teal combines the intelligence of blue with the growth aspect of green – representing progress.\\n    * **Secondary:** Light Gray (#e9ecef) – Provides a clean background and highlights the circuit path.\\n    * **Accent:** Orange (#ffa726) – A pop of color representing energy and success.\\n* **Font:** A clean, geometric sans-serif font like Futura or Lato.\\n* **Symbolism:** The circuit represents the technical foundation of robotics. The upward movement symbolizes progress, ambition, and achieving goals.\\n* **Why this works:**  We're building on symbolic meaning, too. The upward direction isn’t just aesthetically pleasing; it suggests a future-oriented mindset.\\n\\n**Concept 3: Robot Head Silhouette**\\n\\n* **Image:** A simplified, friendly silhouette of a robot head – maybe slightly tilted, giving it a playful, approachable look.\\n* **Colors:**\\n    * **Primary:** Deep Purple (#6f42c1) - Represents intelligence, creativity, and imagination.\\n    * **Secondary:** White (#ffffff) – For highlights and details, creating contrast.\\n    * **Accent:** Neon Green (#39ff14) - A pop of color to indicate energy and excitement.\\n* **Font:** A slightly quirky, rounded sans-serif font like Nunito or Cabin.\\n* **Symbolism:** Directly represents the club's interest in robots. The friendly silhouette suggests a welcoming and inclusive environment.\\n* **Why this works:** Simpler is often better! A clear, recognizable image is easier to remember and understand.\\n\\n\\n**Important Notes & Next Steps:**\\n\\n*   **Iteration is Key:** Logo design isn't a one-shot deal. We'll likely explore several variations, and your feedback will be *essential* in shaping the final design.\\n*   **File Formats:** We'll ultimately need a vector file (like an SVG – this is important because it can be scaled up or down without losing quality). We'll also create versions for web and social media (PNG or JPG).\\n*   **Let's Talk:** I want to hear *your* ideas! Do you have specific colors you’d like to use? Are there particular elements (like a specific type of robot) you’d like to emphasize?\\n\\nTo help me create a logo *specifically* for your club, could you tell me:\\n\\n1.  What is the name of your robotics club?\\n2.  What is the overall tone you’re going for? (e.g., serious and technical, fun and playful, innovative and futuristic)\\n3.  Are there any specific elements you’d like to see included? (e.g., a specific type of robot, a particular color scheme, a symbol representing teamwork)\\n4.  What is the style you prefer? (e.g., minimalist, geometric, illustrative, vintage)\\n5.  Does your school have any existing colors or branding guidelines that we should consider?\\n\\nLet’s work together to create a fantastic logo for your club!<|eot_id|>\""
      ],
      "application/vnd.google.colaboratory.intrinsic+json": {
       "type": "string"
      }
     },
     "metadata": {},
     "execution_count": 9
    }
   ],
   "source": [
    "tokenizer.decode(trainer.train_dataset[100][\"input_ids\"])"
   ]
  },
  {
   "cell_type": "code",
   "execution_count": 10,
   "metadata": {
    "colab": {
     "base_uri": "https://localhost:8080/",
     "height": 143
    },
    "id": "hgMclu2nxkqS",
    "outputId": "05aa45b6-ea07-4d39-f5e9-8fd1ff8ffc12"
   },
   "outputs": [
    {
     "output_type": "execute_result",
     "data": {
      "text/plain": [
       "\"                      Okay, let’s design a logo for your school’s robotics club! That’s fantastic – a great way to visually represent your team’s spirit. I want to make sure we’re on the same page about how logos work, so let’s talk through some ideas and clarify a few things.\\n\\nWe’ll explore three distinct concepts, and I’ll explain the thinking behind each one. Importantly, logo design isn’t just about making something “cool”; it’s about communicating your club’s identity – what you’re about.\\n\\n**Concept 1: The Dynamic Gear**\\n\\n* **Image:** A stylized, slightly angled gear. The gear isn't perfectly symmetrical, suggesting movement and energy. Within the gear, you see a simplified silhouette of a robot arm (or a stylized ‘R’ shape).\\n* **Colors:**\\n    * **Primary:** Electric Blue (#007bff) – Blue is often associated with intelligence, technology, and trust – really good choices for a robotics club! It's a color that feels reliable and innovative.\\n    * **Secondary:** Gray (#495057) – Provides a solid, grounding element representing the mechanical aspects of robotics.\\n    * **Accent:** Bright Yellow (#ffc107) – Adds a spark of creativity and enthusiasm. Yellow is energetic and optimistic.\\n* **Font:** A modern, slightly rounded sans-serif font like Montserrat or Open Sans.\\n* **Symbolism:** The gear immediately conveys robotics and engineering. The robot arm within the gear represents the club’s focus on building and designing robots. The angled design suggests dynamism and progress.\\n* **Why this works:** We’re using color psychology – selecting colors that *represent* the qualities we want associated with your club.  It’s not just about picking colors we like; it's about choosing colors that communicate effectively.\\n\\n**Concept 2: The Rising Circuit**\\n\\n* **Image:** A simplified, upward-pointing circuit board path, subtly forming the shape of a rising star or a stylized upward arrow.\\n* **Colors:**\\n    * **Primary:** Teal (#008080) – Teal combines the intelligence of blue with the growth aspect of green – representing progress.\\n    * **Secondary:** Light Gray (#e9ecef) – Provides a clean background and highlights the circuit path.\\n    * **Accent:** Orange (#ffa726) – A pop of color representing energy and success.\\n* **Font:** A clean, geometric sans-serif font like Futura or Lato.\\n* **Symbolism:** The circuit represents the technical foundation of robotics. The upward movement symbolizes progress, ambition, and achieving goals.\\n* **Why this works:**  We're building on symbolic meaning, too. The upward direction isn’t just aesthetically pleasing; it suggests a future-oriented mindset.\\n\\n**Concept 3: Robot Head Silhouette**\\n\\n* **Image:** A simplified, friendly silhouette of a robot head – maybe slightly tilted, giving it a playful, approachable look.\\n* **Colors:**\\n    * **Primary:** Deep Purple (#6f42c1) - Represents intelligence, creativity, and imagination.\\n    * **Secondary:** White (#ffffff) – For highlights and details, creating contrast.\\n    * **Accent:** Neon Green (#39ff14) - A pop of color to indicate energy and excitement.\\n* **Font:** A slightly quirky, rounded sans-serif font like Nunito or Cabin.\\n* **Symbolism:** Directly represents the club's interest in robots. The friendly silhouette suggests a welcoming and inclusive environment.\\n* **Why this works:** Simpler is often better! A clear, recognizable image is easier to remember and understand.\\n\\n\\n**Important Notes & Next Steps:**\\n\\n*   **Iteration is Key:** Logo design isn't a one-shot deal. We'll likely explore several variations, and your feedback will be *essential* in shaping the final design.\\n*   **File Formats:** We'll ultimately need a vector file (like an SVG – this is important because it can be scaled up or down without losing quality). We'll also create versions for web and social media (PNG or JPG).\\n*   **Let's Talk:** I want to hear *your* ideas! Do you have specific colors you’d like to use? Are there particular elements (like a specific type of robot) you’d like to emphasize?\\n\\nTo help me create a logo *specifically* for your club, could you tell me:\\n\\n1.  What is the name of your robotics club?\\n2.  What is the overall tone you’re going for? (e.g., serious and technical, fun and playful, innovative and futuristic)\\n3.  Are there any specific elements you’d like to see included? (e.g., a specific type of robot, a particular color scheme, a symbol representing teamwork)\\n4.  What is the style you prefer? (e.g., minimalist, geometric, illustrative, vintage)\\n5.  Does your school have any existing colors or branding guidelines that we should consider?\\n\\nLet’s work together to create a fantastic logo for your club!<|eot_id|>\""
      ],
      "application/vnd.google.colaboratory.intrinsic+json": {
       "type": "string"
      }
     },
     "metadata": {},
     "execution_count": 10
    }
   ],
   "source": [
    "tokenizer.decode([tokenizer.pad_token_id if x == -100 else x for x in trainer.train_dataset[100][\"labels\"]]).replace(tokenizer.pad_token, \" \")"
   ]
  },
  {
   "cell_type": "code",
   "execution_count": 10,
   "metadata": {
    "id": "pmTFwqGIx0nw"
   },
   "outputs": [],
   "source": []
  }
 ],
 "metadata": {
  "accelerator": "GPU",
  "colab": {
   "gpuType": "T4",
   "provenance": []
  },
  "kernelspec": {
   "display_name": "Python 3",
   "name": "python3"
  },
  "language_info": {
   "name": "python"
  }
 },
 "nbformat": 4,
 "nbformat_minor": 0
}